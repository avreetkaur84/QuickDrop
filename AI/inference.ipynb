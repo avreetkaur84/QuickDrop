{
 "cells": [
  {
   "cell_type": "code",
   "execution_count": 1,
   "id": "initial_id",
   "metadata": {
    "ExecuteTime": {
     "end_time": "2024-10-12T11:40:34.012789Z",
     "start_time": "2024-10-12T11:40:32.963905Z"
    }
   },
   "outputs": [
    {
     "name": "stdout",
     "output_type": "stream",
     "text": [
      "Decision Tree Prediction: Accepted\n"
     ]
    },
    {
     "name": "stderr",
     "output_type": "stream",
     "text": [
      "C:\\Users\\hp\\Desktop\\QuickDrop\\QuickDrop\\AI\\env\\Lib\\site-packages\\sklearn\\base.py:380: InconsistentVersionWarning: Trying to unpickle estimator DecisionTreeClassifier from version 1.4.2 when using version 1.6.1. This might lead to breaking code or invalid results. Use at your own risk. For more info please refer to:\n",
      "https://scikit-learn.org/stable/model_persistence.html#security-maintainability-limitations\n",
      "  warnings.warn(\n"
     ]
    }
   ],
   "source": [
    "import joblib\n",
    "import pandas as pd\n",
    "from sklearn.preprocessing import LabelEncoder\n",
    "\n",
    "# Load the trained Decision Tree model\n",
    "dt_model = joblib.load('decision_tree_model.pkl')\n",
    "\n",
    "# Load the LabelEncoders for Flexibility and Traffic Condition (used during training)\n",
    "label_encoder_flex = LabelEncoder()\n",
    "label_encoder_traffic = LabelEncoder()\n",
    "\n",
    "# Fit encoders to original data categories (replace with the categories used during training)\n",
    "flexibility_categories = ['High', 'Medium', 'Low']\n",
    "traffic_categories = ['Low', 'Medium', 'High']\n",
    "label_encoder_flex.fit(flexibility_categories)\n",
    "label_encoder_traffic.fit(traffic_categories)\n",
    "\n",
    "# Function to take user input, process, and predict using the Decision Tree model\n",
    "def predict_with_decision_tree(time_slot, flexibility, traffic_condition, delivery_success_rate, delivery_distance):\n",
    "    # Time slot mapping to class\n",
    "    time_slots = ['9-10 AM', '10-11 AM', '11-12 AM', '12-1 PM', '1-2 PM', '2-3 PM', \n",
    "                  '3-4 PM', '4-5 PM', '5-6 PM', '6-7 PM', '7-8 PM', '8-9 PM']\n",
    "    time_slot_class = time_slots.index(time_slot)\n",
    "\n",
    "    # Encode Flexibility and Traffic Condition\n",
    "    flexibility_encoded = label_encoder_flex.transform([flexibility])[0]\n",
    "    traffic_condition_encoded = label_encoder_traffic.transform([traffic_condition])[0]\n",
    "\n",
    "    # Create a DataFrame for the input data\n",
    "    input_data = pd.DataFrame([{\n",
    "        'Time_Slot_Class': time_slot_class,\n",
    "        'Flexibility_Encoded': flexibility_encoded,\n",
    "        'Traffic_Condition_Encoded': traffic_condition_encoded,\n",
    "        'Delivery_Success_Rate': delivery_success_rate,\n",
    "        'Delivery_Distance': delivery_distance\n",
    "    }])\n",
    "\n",
    "    # Predict using the loaded Decision Tree model\n",
    "    prediction = dt_model.predict(input_data)\n",
    "    \n",
    "    # Output the prediction result\n",
    "    return \"Accepted\" if prediction[0] == 1 else \"Rejected\"\n",
    "\n",
    "# Example usage\n",
    "time_slot = \"4-5 PM\"\n",
    "flexibility = \"High\"\n",
    "traffic_condition = \"Medium\"\n",
    "delivery_success_rate = 85.0\n",
    "delivery_distance = 5.0\n",
    "\n",
    "# Make prediction\n",
    "result = predict_with_decision_tree(time_slot, flexibility, traffic_condition, delivery_success_rate, delivery_distance)\n",
    "print(f\"Decision Tree Prediction: {result}\")\n"
   ]
  },
  {
   "cell_type": "code",
   "execution_count": 2,
   "id": "df975fc16fa4de4b",
   "metadata": {
    "ExecuteTime": {
     "end_time": "2024-10-12T11:40:45.898378Z",
     "start_time": "2024-10-12T11:40:45.888811Z"
    }
   },
   "outputs": [
    {
     "name": "stderr",
     "output_type": "stream",
     "text": [
      "C:\\Users\\hp\\Desktop\\QuickDrop\\QuickDrop\\AI\\env\\Lib\\site-packages\\sklearn\\base.py:380: InconsistentVersionWarning: Trying to unpickle estimator LinearRegression from version 1.4.2 when using version 1.6.1. This might lead to breaking code or invalid results. Use at your own risk. For more info please refer to:\n",
      "https://scikit-learn.org/stable/model_persistence.html#security-maintainability-limitations\n",
      "  warnings.warn(\n",
      "C:\\Users\\hp\\Desktop\\QuickDrop\\QuickDrop\\AI\\env\\Lib\\site-packages\\sklearn\\base.py:380: InconsistentVersionWarning: Trying to unpickle estimator DecisionTreeClassifier from version 1.4.2 when using version 1.6.1. This might lead to breaking code or invalid results. Use at your own risk. For more info please refer to:\n",
      "https://scikit-learn.org/stable/model_persistence.html#security-maintainability-limitations\n",
      "  warnings.warn(\n",
      "C:\\Users\\hp\\Desktop\\QuickDrop\\QuickDrop\\AI\\env\\Lib\\site-packages\\sklearn\\base.py:380: InconsistentVersionWarning: Trying to unpickle estimator RandomForestClassifier from version 1.4.2 when using version 1.6.1. This might lead to breaking code or invalid results. Use at your own risk. For more info please refer to:\n",
      "https://scikit-learn.org/stable/model_persistence.html#security-maintainability-limitations\n",
      "  warnings.warn(\n"
     ]
    },
    {
     "ename": "AttributeError",
     "evalue": "'RandomForestClassifier' object has no attribute 'transform'",
     "output_type": "error",
     "traceback": [
      "\u001b[1;31m----------------------------------------------------------------------\u001b[0m",
      "\u001b[1;31mAttributeError\u001b[0m                       Traceback (most recent call last)",
      "Cell \u001b[1;32mIn[2], line 57\u001b[0m\n\u001b[0;32m     54\u001b[0m delivery_distance \u001b[38;5;241m=\u001b[39m \u001b[38;5;241m5.0\u001b[39m\n\u001b[0;32m     56\u001b[0m \u001b[38;5;66;03m# Make prediction\u001b[39;00m\n\u001b[1;32m---> 57\u001b[0m result \u001b[38;5;241m=\u001b[39m \u001b[43mpredict_with_polynomial_model\u001b[49m\u001b[43m(\u001b[49m\u001b[43mtime_slot\u001b[49m\u001b[43m,\u001b[49m\u001b[43m \u001b[49m\u001b[43mflexibility\u001b[49m\u001b[43m,\u001b[49m\u001b[43m \u001b[49m\u001b[43mtraffic_condition\u001b[49m\u001b[43m,\u001b[49m\u001b[43m \u001b[49m\u001b[43mdelivery_success_rate\u001b[49m\u001b[43m,\u001b[49m\u001b[43m \u001b[49m\u001b[43mdelivery_distance\u001b[49m\u001b[43m)\u001b[49m\n\u001b[0;32m     58\u001b[0m \u001b[38;5;28mprint\u001b[39m(\u001b[38;5;124mf\u001b[39m\u001b[38;5;124m\"\u001b[39m\u001b[38;5;124mPolynomial Model Prediction: \u001b[39m\u001b[38;5;132;01m{\u001b[39;00mresult\u001b[38;5;132;01m}\u001b[39;00m\u001b[38;5;124m\"\u001b[39m)\n",
      "Cell \u001b[1;32mIn[2], line 40\u001b[0m, in \u001b[0;36mpredict_with_polynomial_model\u001b[1;34m(time_slot, flexibility, traffic_condition, delivery_success_rate, delivery_distance)\u001b[0m\n\u001b[0;32m     31\u001b[0m input_data \u001b[38;5;241m=\u001b[39m pd\u001b[38;5;241m.\u001b[39mDataFrame([{\n\u001b[0;32m     32\u001b[0m     \u001b[38;5;124m'\u001b[39m\u001b[38;5;124mTime_Slot_Class\u001b[39m\u001b[38;5;124m'\u001b[39m: time_slot_class,\n\u001b[0;32m     33\u001b[0m     \u001b[38;5;124m'\u001b[39m\u001b[38;5;124mFlexibility_Encoded\u001b[39m\u001b[38;5;124m'\u001b[39m: flexibility_encoded,\n\u001b[1;32m   (...)\u001b[0m\n\u001b[0;32m     36\u001b[0m     \u001b[38;5;124m'\u001b[39m\u001b[38;5;124mDelivery_Distance\u001b[39m\u001b[38;5;124m'\u001b[39m: delivery_distance\n\u001b[0;32m     37\u001b[0m }])\n\u001b[0;32m     39\u001b[0m \u001b[38;5;66;03m# Transform the input data using the saved PolynomialFeatures transformer\u001b[39;00m\n\u001b[1;32m---> 40\u001b[0m input_poly \u001b[38;5;241m=\u001b[39m \u001b[43mpoly_transformer\u001b[49m\u001b[38;5;241;43m.\u001b[39;49m\u001b[43mtransform\u001b[49m(input_data[[\u001b[38;5;124m'\u001b[39m\u001b[38;5;124mTime_Slot_Class\u001b[39m\u001b[38;5;124m'\u001b[39m, \u001b[38;5;124m'\u001b[39m\u001b[38;5;124mDelivery_Success_Rate\u001b[39m\u001b[38;5;124m'\u001b[39m, \u001b[38;5;124m'\u001b[39m\u001b[38;5;124mTraffic_Condition_Encoded\u001b[39m\u001b[38;5;124m'\u001b[39m]])\n\u001b[0;32m     42\u001b[0m \u001b[38;5;66;03m# Predict using the loaded Polynomial Regression model\u001b[39;00m\n\u001b[0;32m     43\u001b[0m prediction \u001b[38;5;241m=\u001b[39m poly_model\u001b[38;5;241m.\u001b[39mpredict(input_poly)\n",
      "\u001b[1;31mAttributeError\u001b[0m: 'RandomForestClassifier' object has no attribute 'transform'"
     ]
    }
   ],
   "source": [
    "import joblib\n",
    "import pandas as pd\n",
    "from sklearn.preprocessing import LabelEncoder, PolynomialFeatures\n",
    "\n",
    "# Load the trained Polynomial Regression model and the PolynomialFeatures transformer\n",
    "poly_model = joblib.load('polynomial_regression_model.pkl')\n",
    "poly_transformer = joblib.load('polynomial_features_transformer.pkl')\n",
    "\n",
    "# Load the LabelEncoders for Flexibility and Traffic Condition (used during training)\n",
    "label_encoder_flex = LabelEncoder()\n",
    "label_encoder_traffic = LabelEncoder()\n",
    "\n",
    "# Fit encoders to original data categories (replace with the categories used during training)\n",
    "flexibility_categories = ['High', 'Medium', 'Low']\n",
    "traffic_categories = ['Low', 'Medium', 'High']\n",
    "label_encoder_flex.fit(flexibility_categories)\n",
    "label_encoder_traffic.fit(traffic_categories)\n",
    "\n",
    "# Function to take user input, process, and predict using the Polynomial Regression model\n",
    "def predict_with_polynomial_model(time_slot, flexibility, traffic_condition, delivery_success_rate, delivery_distance):\n",
    "    # Time slot mapping to class\n",
    "    time_slots = ['9-10 AM', '10-11 AM', '11-12 AM', '12-1 PM', '1-2 PM', '2-3 PM', \n",
    "                  '3-4 PM', '4-5 PM', '5-6 PM', '6-7 PM', '7-8 PM', '8-9 PM']\n",
    "    time_slot_class = time_slots.index(time_slot)\n",
    "\n",
    "    # Encode Flexibility and Traffic Condition\n",
    "    flexibility_encoded = label_encoder_flex.transform([flexibility])[0]\n",
    "    traffic_condition_encoded = label_encoder_traffic.transform([traffic_condition])[0]\n",
    "\n",
    "    # Create a DataFrame for the input data\n",
    "    input_data = pd.DataFrame([{\n",
    "        'Time_Slot_Class': time_slot_class,\n",
    "        'Flexibility_Encoded': flexibility_encoded,\n",
    "        'Traffic_Condition_Encoded': traffic_condition_encoded,\n",
    "        'Delivery_Success_Rate': delivery_success_rate,\n",
    "        'Delivery_Distance': delivery_distance\n",
    "    }])\n",
    "\n",
    "    # Transform the input data using the saved PolynomialFeatures transformer\n",
    "    input_poly = poly_transformer.transform(input_data[['Time_Slot_Class', 'Delivery_Success_Rate', 'Traffic_Condition_Encoded']])\n",
    "\n",
    "    # Predict using the loaded Polynomial Regression model\n",
    "    prediction = poly_model.predict(input_poly)\n",
    "    prediction_class = 1 if prediction >= 0.5 else 0\n",
    "    \n",
    "    # Output the prediction result\n",
    "    return \"Accepted\" if prediction_class == 1 else \"Rejected\"\n",
    "\n",
    "# Example usage\n",
    "time_slot = \"4-5 PM\"\n",
    "flexibility = \"High\"\n",
    "traffic_condition = \"Medium\"\n",
    "delivery_success_rate = 85.0\n",
    "delivery_distance = 5.0\n",
    "\n",
    "# Make prediction\n",
    "result = predict_with_polynomial_model(time_slot, flexibility, traffic_condition, delivery_success_rate, delivery_distance)\n",
    "print(f\"Polynomial Model Prediction: {result}\")\n"
   ]
  },
  {
   "cell_type": "code",
   "execution_count": null,
   "id": "f1b0e096-33b8-4215-89bb-618441dd4a54",
   "metadata": {},
   "outputs": [],
   "source": []
  }
 ],
 "metadata": {
  "kernelspec": {
   "display_name": "Python (venv)",
   "language": "python",
   "name": "venv"
  },
  "language_info": {
   "codemirror_mode": {
    "name": "ipython",
    "version": 3
   },
   "file_extension": ".py",
   "mimetype": "text/x-python",
   "name": "python",
   "nbconvert_exporter": "python",
   "pygments_lexer": "ipython3",
   "version": "3.13.1"
  }
 },
 "nbformat": 4,
 "nbformat_minor": 5
}
