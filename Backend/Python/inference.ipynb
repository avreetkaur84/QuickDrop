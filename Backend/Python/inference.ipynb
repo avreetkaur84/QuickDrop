{
 "cells": [
  {
   "cell_type": "code",
   "id": "initial_id",
   "metadata": {
    "collapsed": true,
    "ExecuteTime": {
     "end_time": "2024-10-12T11:40:34.012789Z",
     "start_time": "2024-10-12T11:40:32.963905Z"
    }
   },
   "source": [
    "import joblib\n",
    "import pandas as pd\n",
    "from sklearn.preprocessing import LabelEncoder\n",
    "\n",
    "# Load the trained Decision Tree model\n",
    "dt_model = joblib.load('decision_tree_model.pkl')\n",
    "\n",
    "# Load the LabelEncoders for Flexibility and Traffic Condition (used during training)\n",
    "label_encoder_flex = LabelEncoder()\n",
    "label_encoder_traffic = LabelEncoder()\n",
    "\n",
    "# Fit encoders to original data categories (replace with the categories used during training)\n",
    "flexibility_categories = ['High', 'Medium', 'Low']\n",
    "traffic_categories = ['Low', 'Medium', 'High']\n",
    "label_encoder_flex.fit(flexibility_categories)\n",
    "label_encoder_traffic.fit(traffic_categories)\n",
    "\n",
    "# Function to take user input, process, and predict using the Decision Tree model\n",
    "def predict_with_decision_tree(time_slot, flexibility, traffic_condition, delivery_success_rate, delivery_distance):\n",
    "    # Time slot mapping to class\n",
    "    time_slots = ['9-10 AM', '10-11 AM', '11-12 AM', '12-1 PM', '1-2 PM', '2-3 PM', \n",
    "                  '3-4 PM', '4-5 PM', '5-6 PM', '6-7 PM', '7-8 PM', '8-9 PM']\n",
    "    time_slot_class = time_slots.index(time_slot)\n",
    "\n",
    "    # Encode Flexibility and Traffic Condition\n",
    "    flexibility_encoded = label_encoder_flex.transform([flexibility])[0]\n",
    "    traffic_condition_encoded = label_encoder_traffic.transform([traffic_condition])[0]\n",
    "\n",
    "    # Create a DataFrame for the input data\n",
    "    input_data = pd.DataFrame([{\n",
    "        'Time_Slot_Class': time_slot_class,\n",
    "        'Flexibility_Encoded': flexibility_encoded,\n",
    "        'Traffic_Condition_Encoded': traffic_condition_encoded,\n",
    "        'Delivery_Success_Rate': delivery_success_rate,\n",
    "        'Delivery_Distance': delivery_distance\n",
    "    }])\n",
    "\n",
    "    # Predict using the loaded Decision Tree model\n",
    "    prediction = dt_model.predict(input_data)\n",
    "    \n",
    "    # Output the prediction result\n",
    "    return \"Accepted\" if prediction[0] == 1 else \"Rejected\"\n",
    "\n",
    "# Example usage\n",
    "time_slot = \"4-5 PM\"\n",
    "flexibility = \"High\"\n",
    "traffic_condition = \"Medium\"\n",
    "delivery_success_rate = 85.0\n",
    "delivery_distance = 5.0\n",
    "\n",
    "# Make prediction\n",
    "result = predict_with_decision_tree(time_slot, flexibility, traffic_condition, delivery_success_rate, delivery_distance)\n",
    "print(f\"Decision Tree Prediction: {result}\")\n"
   ],
   "outputs": [
    {
     "name": "stdout",
     "output_type": "stream",
     "text": [
      "Decision Tree Prediction: Accepted\n"
     ]
    }
   ],
   "execution_count": 1
  },
  {
   "metadata": {
    "ExecuteTime": {
     "end_time": "2024-10-12T11:40:45.898378Z",
     "start_time": "2024-10-12T11:40:45.888811Z"
    }
   },
   "cell_type": "code",
   "source": [
    "import joblib\n",
    "import pandas as pd\n",
    "from sklearn.preprocessing import LabelEncoder, PolynomialFeatures\n",
    "\n",
    "# Load the trained Polynomial Regression model and the PolynomialFeatures transformer\n",
    "poly_model = joblib.load('polynomial_regression_model.pkl')\n",
    "poly_transformer = joblib.load('polynomial_features_transformer.pkl')\n",
    "\n",
    "# Load the LabelEncoders for Flexibility and Traffic Condition (used during training)\n",
    "label_encoder_flex = LabelEncoder()\n",
    "label_encoder_traffic = LabelEncoder()\n",
    "\n",
    "# Fit encoders to original data categories (replace with the categories used during training)\n",
    "flexibility_categories = ['High', 'Medium', 'Low']\n",
    "traffic_categories = ['Low', 'Medium', 'High']\n",
    "label_encoder_flex.fit(flexibility_categories)\n",
    "label_encoder_traffic.fit(traffic_categories)\n",
    "\n",
    "# Function to take user input, process, and predict using the Polynomial Regression model\n",
    "def predict_with_polynomial_model(time_slot, flexibility, traffic_condition, delivery_success_rate, delivery_distance):\n",
    "    # Time slot mapping to class\n",
    "    time_slots = ['9-10 AM', '10-11 AM', '11-12 AM', '12-1 PM', '1-2 PM', '2-3 PM', \n",
    "                  '3-4 PM', '4-5 PM', '5-6 PM', '6-7 PM', '7-8 PM', '8-9 PM']\n",
    "    time_slot_class = time_slots.index(time_slot)\n",
    "\n",
    "    # Encode Flexibility and Traffic Condition\n",
    "    flexibility_encoded = label_encoder_flex.transform([flexibility])[0]\n",
    "    traffic_condition_encoded = label_encoder_traffic.transform([traffic_condition])[0]\n",
    "\n",
    "    # Create a DataFrame for the input data\n",
    "    input_data = pd.DataFrame([{\n",
    "        'Time_Slot_Class': time_slot_class,\n",
    "        'Flexibility_Encoded': flexibility_encoded,\n",
    "        'Traffic_Condition_Encoded': traffic_condition_encoded,\n",
    "        'Delivery_Success_Rate': delivery_success_rate,\n",
    "        'Delivery_Distance': delivery_distance\n",
    "    }])\n",
    "\n",
    "    # Transform the input data using the saved PolynomialFeatures transformer\n",
    "    input_poly = poly_transformer.transform(input_data[['Time_Slot_Class', 'Delivery_Success_Rate', 'Traffic_Condition_Encoded']])\n",
    "\n",
    "    # Predict using the loaded Polynomial Regression model\n",
    "    prediction = poly_model.predict(input_poly)\n",
    "    prediction_class = 1 if prediction >= 0.5 else 0\n",
    "    \n",
    "    # Output the prediction result\n",
    "    return \"Accepted\" if prediction_class == 1 else \"Rejected\"\n",
    "\n",
    "# Example usage\n",
    "time_slot = \"4-5 PM\"\n",
    "flexibility = \"High\"\n",
    "traffic_condition = \"Medium\"\n",
    "delivery_success_rate = 85.0\n",
    "delivery_distance = 5.0\n",
    "\n",
    "# Make prediction\n",
    "result = predict_with_polynomial_model(time_slot, flexibility, traffic_condition, delivery_success_rate, delivery_distance)\n",
    "print(f\"Polynomial Model Prediction: {result}\")\n"
   ],
   "id": "df975fc16fa4de4b",
   "outputs": [
    {
     "name": "stdout",
     "output_type": "stream",
     "text": [
      "Polynomial Model Prediction: Accepted\n"
     ]
    }
   ],
   "execution_count": 2
  },
  {
   "metadata": {},
   "cell_type": "code",
   "outputs": [],
   "execution_count": null,
   "source": "",
   "id": "534e6d715436ee76"
  }
 ],
 "metadata": {
  "kernelspec": {
   "display_name": "Python 3",
   "language": "python",
   "name": "python3"
  },
  "language_info": {
   "codemirror_mode": {
    "name": "ipython",
    "version": 2
   },
   "file_extension": ".py",
   "mimetype": "text/x-python",
   "name": "python",
   "nbconvert_exporter": "python",
   "pygments_lexer": "ipython2",
   "version": "2.7.6"
  }
 },
 "nbformat": 4,
 "nbformat_minor": 5
}
